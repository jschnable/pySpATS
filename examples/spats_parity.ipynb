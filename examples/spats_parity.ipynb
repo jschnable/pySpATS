{
 "cells": [
  {
   "cell_type": "markdown",
   "metadata": {},
   "source": [
    "# pySpATS Quick Start: Model Fitting and Diagnostics\n",
    "\n",
    "This notebook demonstrates the core functionality of pySpATS:\n",
    "- Fitting a spatial model to field trial data\n",
    "- Viewing effective dimension (ED) summary\n",
    "- Computing heritability\n",
    "- Visualizing the fitted spatial surface"
   ]
  },
  {
   "cell_type": "code",
   "execution_count": null,
   "metadata": {},
   "outputs": [],
   "source": [
    "import numpy as np\n",
    "import pandas as pd\n",
    "import matplotlib.pyplot as plt\n",
    "from pyspats import SpATS\n",
    "from pyspats.datasets import load_dataset\n",
    "\n",
    "%matplotlib inline"
   ]
  },
  {
   "cell_type": "markdown",
   "metadata": {},
   "source": [
    "## Load Example Data\n",
    "\n",
    "We'll use the wheat dataset that comes with pySpATS."
   ]
  },
  {
   "cell_type": "code",
   "execution_count": null,
   "metadata": {},
   "outputs": [],
   "source": [
    "# Load wheat field trial data\n",
    "data = load_dataset('wheat')\n",
    "\n",
    "print(f\"Dataset shape: {data.shape}\")\n",
    "print(f\"\\nFirst few rows:\")\n",
    "print(data.head())\n",
    "\n",
    "print(f\"\\nColumns: {list(data.columns)}\")\n",
    "print(f\"Number of genotypes: {data['geno'].nunique()}\")\n",
    "print(f\"Number of observations: {len(data)}\")"
   ]
  },
  {
   "cell_type": "markdown",
   "metadata": {},
   "source": [
    "## Fit SpATS Model\n",
    "\n",
    "We fit a spatial model with:\n",
    "- Response: yield\n",
    "- Genotypes as fixed effects (for BLUE extraction)\n",
    "- 2D spatial smooth using row and column coordinates\n",
    "- Replication as random effect"
   ]
  },
  {
   "cell_type": "code",
   "execution_count": null,
   "metadata": {},
   "outputs": [],
   "source": [
    "# Fit SpATS model\n",
    "model = SpATS(\n",
    "    response='yield',\n",
    "    genotype='geno',\n",
    "    spatial=('col', 'row'),\n",
    "    random=['rep'],\n",
    "    data=data,\n",
    "    genotype_as_random=False  # Treat genotypes as fixed for BLUE extraction\n",
    ")\n",
    "\n",
    "print(\"Model fitted successfully!\")\n",
    "print(f\"Deviance: {model.deviance:.2f}\")\n",
    "print(f\"Iterations: {model.n_iterations}\")"
   ]
  },
  {
   "cell_type": "markdown",
   "metadata": {},
   "source": [
    "## Effective Dimension Summary\n",
    "\n",
    "The `summary_ed()` method shows how degrees of freedom are allocated across model components:\n",
    "- Fixed effects (intercept + genotypes)\n",
    "- Spatial smooths (row, column, interaction)\n",
    "- Random effects (replication)\n",
    "- Residual"
   ]
  },
  {
   "cell_type": "code",
   "execution_count": null,
   "metadata": {},
   "outputs": [],
   "source": [
    "# Display effective dimension breakdown\n",
    "model.summary_ed()"
   ]
  },
  {
   "cell_type": "markdown",
   "metadata": {},
   "source": [
    "## Heritability Estimation\n",
    "\n",
    "PySpATS computes generalized heritability by default:\n",
    "- H² = ED_geno / n_geno (SpATS-style)\n",
    "\n",
    "For classical heritability: H² = ED_geno / (n_geno - 1), use `get_heritability(mode='classical')`"
   ]
  },
  {
   "cell_type": "code",
   "execution_count": null,
   "metadata": {},
   "outputs": [],
   "source": [
    "# Generalized heritability (default)\n",
    "h2_gen = model.heritability\n",
    "print(f\"Generalized Heritability: {h2_gen:.3f}\")\n",
    "\n",
    "# Classical heritability (for comparison)\n",
    "h2_class = model.get_heritability(mode='classical')\n",
    "print(f\"Classical Heritability:   {h2_class:.3f}\")\n",
    "\n",
    "# Extract genotype BLUEs\n",
    "blues = model.get_BLUEs()\n",
    "print(f\"\\nExtracted BLUEs for {len(blues)} genotypes\")\n",
    "print(\"\\nTop 5 genotypes:\")\n",
    "print(blues.sort_values('BLUE', ascending=False).head())"
   ]
  },
  {
   "cell_type": "markdown",
   "metadata": {},
   "source": [
    "## Visualize Spatial Surface\n",
    "\n",
    "The spatial smooth captures field heterogeneity patterns."
   ]
  },
  {
   "cell_type": "code",
   "execution_count": null,
   "metadata": {},
   "outputs": [],
   "source": [
    "# Plot spatial trend\n",
    "model.plot_spatial()\n",
    "plt.suptitle('Fitted Spatial Surface (Field Heterogeneity)', fontsize=14, y=1.02)\n",
    "plt.tight_layout()\n",
    "plt.show()"
   ]
  },
  {
   "cell_type": "markdown",
   "metadata": {},
   "source": [
    "## Full Diagnostic Plot\n",
    "\n",
    "The 6-panel diagnostic provides comprehensive model assessment:\n",
    "1. Spatial residuals\n",
    "2. Fitted vs observed\n",
    "3. Residual distribution\n",
    "4. Genotype BLUEs distribution\n",
    "5. Top/bottom performers\n",
    "6. Variance components"
   ]
  },
  {
   "cell_type": "code",
   "execution_count": null,
   "metadata": {},
   "outputs": [],
   "source": [
    "# Comprehensive diagnostic plot\n",
    "model.plot(all_in_one=True, figsize=(15, 10))\n",
    "plt.show()"
   ]
  },
  {
   "cell_type": "markdown",
   "metadata": {},
   "source": [
    "## Variance Components\n",
    "\n",
    "View the estimated variance for each model component."
   ]
  },
  {
   "cell_type": "code",
   "execution_count": null,
   "metadata": {},
   "outputs": [],
   "source": [
    "# Display variance components\n",
    "print(\"Variance Components:\")\n",
    "print(\"-\" * 40)\n",
    "for component, var in model.var_comp.items():\n",
    "    print(f\"{component:30s}: {var:.6f}\")\n",
    "print(f\"{'Residual (psi)':30s}: {model.psi:.6f}\")"
   ]
  },
  {
   "cell_type": "markdown",
   "metadata": {},
   "source": [
    "## Summary\n",
    "\n",
    "This example demonstrated:\n",
    "- ✅ Simple model fitting with spatial correction\n",
    "- ✅ Effective dimension breakdown via `summary_ed()`\n",
    "- ✅ Heritability estimation (generalized and classical)\n",
    "- ✅ Spatial surface visualization\n",
    "- ✅ Comprehensive diagnostics\n",
    "\n",
    "For more advanced usage, see the main documentation and `pyspats_sorghum_example.py`."
   ]
  }
 ],
 "metadata": {
  "kernelspec": {
   "display_name": "Python 3",
   "language": "python",
   "name": "python3"
  },
  "language_info": {
   "codemirror_mode": {
    "name": "ipython",
    "version": 3
   },
   "file_extension": ".py",
   "mimetype": "text/x-python",
   "name": "python",
   "nbconvert_exporter": "python",
   "pygments_lexer": "ipython3",
   "version": "3.8.0"
  }
 },
 "nbformat": 4,
 "nbformat_minor": 4
}
